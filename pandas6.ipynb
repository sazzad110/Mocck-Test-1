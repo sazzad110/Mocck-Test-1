{
  "nbformat": 4,
  "nbformat_minor": 0,
  "metadata": {
    "colab": {
      "provenance": [],
      "authorship_tag": "ABX9TyM7q+BaV/3qCw7iKzmmv7Qd",
      "include_colab_link": true
    },
    "kernelspec": {
      "name": "python3",
      "display_name": "Python 3"
    },
    "language_info": {
      "name": "python"
    }
  },
  "cells": [
    {
      "cell_type": "markdown",
      "metadata": {
        "id": "view-in-github",
        "colab_type": "text"
      },
      "source": [
        "<a href=\"https://colab.research.google.com/github/sazzad110/Mock-Test-1/blob/main/pandas6.ipynb\" target=\"_parent\"><img src=\"https://colab.research.google.com/assets/colab-badge.svg\" alt=\"Open In Colab\"/></a>"
      ]
    },
    {
      "cell_type": "code",
      "execution_count": 17,
      "metadata": {
        "id": "_MhPqqsor-uo",
        "colab": {
          "base_uri": "https://localhost:8080/"
        },
        "outputId": "9b1f9531-c4db-4f59-b69c-58f753d31881"
      },
      "outputs": [
        {
          "output_type": "stream",
          "name": "stdout",
          "text": [
            "     Name   Age      City\n",
            "0  sazzad  25.0  New York\n",
            "3   karim  40.0   Houston\n",
            "-----------------------\n",
            "     Name\n",
            "0  sazzad\n",
            "1   rakib\n",
            "2   sumon\n",
            "3   karim\n",
            "-----------------------\n",
            "     Name        Age       City\n",
            "0  sazzad       25.0   New York\n",
            "1   rakib  any value  any value\n",
            "2   sumon       35.0  any value\n",
            "3   karim       40.0    Houston\n",
            "-----------------------\n",
            "     Name        Age      City\n",
            "0  sazzad  25.000000  New York\n",
            "1   rakib  33.333333      None\n",
            "2   sumon  35.000000      None\n",
            "3   karim  40.000000   Houston\n",
            "-----------------------\n",
            "     Name        Age       City\n",
            "0  sazzad  25.000000   New York\n",
            "1   rakib  33.333333  any value\n",
            "2   sumon  35.000000  any value\n",
            "3   karim  40.000000    Houston\n"
          ]
        }
      ],
      "source": [
        "import pandas as pd\n",
        "\n",
        "data = {\n",
        "    'Name': ['sazzad', 'rakib', 'sumon', 'karim'],\n",
        "    'Age': [25, None, 35, 40],\n",
        "    'City': ['New York', None, None, 'Houston']\n",
        "}\n",
        "\n",
        "# None are missing values in my dataframe.\n",
        "df = pd.DataFrame(data)\n",
        "missing_val_cnt = df.isnull().sum()     # How many none value in each column\n",
        "# print(missing_val_cnt)\n",
        "\n",
        "# Remove rows with missing (none) values\n",
        "df_remove_rows = df.dropna()\n",
        "print(df_remove_rows)\n",
        "print(\"-----------------------\")\n",
        "\n",
        "# Remove columns with missing (none) values\n",
        "df_remove_rows = df.dropna(axis=1)\n",
        "print(df_remove_rows)\n",
        "\n",
        "print(\"-----------------------\")\n",
        "\n",
        "# Fill missing values with a specific value\n",
        "df_filled = df.fillna('any value')\n",
        "print(df_filled)\n",
        "\n",
        "print(\"-----------------------\")\n",
        "\n",
        "# Fill missing values with the mean of the column\n",
        "df['Age'] = df['Age'].fillna(df['Age'].mean())\n",
        "print(df)\n",
        "\n",
        "print(\"-----------------------\")\n",
        "# Replace NaN with a specific value\n",
        "df_replaced = df.replace({None: 'any value'})\n",
        "print(df_replaced)\n"
      ]
    }
  ]
}