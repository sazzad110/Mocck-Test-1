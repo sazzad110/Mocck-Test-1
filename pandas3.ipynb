{
  "nbformat": 4,
  "nbformat_minor": 0,
  "metadata": {
    "colab": {
      "provenance": [],
      "authorship_tag": "ABX9TyN0kuy16Y2pbQKisyegUPyh",
      "include_colab_link": true
    },
    "kernelspec": {
      "name": "python3",
      "display_name": "Python 3"
    },
    "language_info": {
      "name": "python"
    }
  },
  "cells": [
    {
      "cell_type": "markdown",
      "metadata": {
        "id": "view-in-github",
        "colab_type": "text"
      },
      "source": [
        "<a href=\"https://colab.research.google.com/github/sazzad110/Mock-Test-1/blob/main/pandas3.ipynb\" target=\"_parent\"><img src=\"https://colab.research.google.com/assets/colab-badge.svg\" alt=\"Open In Colab\"/></a>"
      ]
    },
    {
      "cell_type": "markdown",
      "source": [
        "## Select Specific Column in Dataframe\n"
      ],
      "metadata": {
        "id": "n6GXWGExsHtd"
      }
    },
    {
      "cell_type": "code",
      "execution_count": 6,
      "metadata": {
        "id": "_MhPqqsor-uo",
        "colab": {
          "base_uri": "https://localhost:8080/"
        },
        "outputId": "ce38cfcd-4de8-4251-8ccb-7c63adac66b8"
      },
      "outputs": [
        {
          "output_type": "stream",
          "name": "stdout",
          "text": [
            "     name  id\n",
            "0  sazzad   1\n",
            "1   bakku   2\n"
          ]
        }
      ],
      "source": [
        "import pandas as pd\n",
        "\n",
        "# defining a dictonary\n",
        "data = {\n",
        "    \"name\":[\"sazzad\",\"bakku\",\"rakib\"],\n",
        "    \"id\":[1,2,3]\n",
        "}\n",
        "\n",
        "# make this dict dataframe\n",
        "df = pd.DataFrame(data)\n",
        "\n",
        "\n",
        "# Filtered rows of a dataframe based on a condition\n",
        "filtered_rows = df[df[\"id\"]<3]\n",
        "print(filtered_rows)\n"
      ]
    }
  ]
}