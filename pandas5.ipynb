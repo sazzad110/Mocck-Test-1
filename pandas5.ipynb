{
  "nbformat": 4,
  "nbformat_minor": 0,
  "metadata": {
    "colab": {
      "provenance": [],
      "authorship_tag": "ABX9TyPzvoFAvMMAnK6UIGZ1SWsJ",
      "include_colab_link": true
    },
    "kernelspec": {
      "name": "python3",
      "display_name": "Python 3"
    },
    "language_info": {
      "name": "python"
    }
  },
  "cells": [
    {
      "cell_type": "markdown",
      "metadata": {
        "id": "view-in-github",
        "colab_type": "text"
      },
      "source": [
        "<a href=\"https://colab.research.google.com/github/sazzad110/Mock-Test-1/blob/main/pandas5.ipynb\" target=\"_parent\"><img src=\"https://colab.research.google.com/assets/colab-badge.svg\" alt=\"Open In Colab\"/></a>"
      ]
    },
    {
      "cell_type": "code",
      "execution_count": 6,
      "metadata": {
        "id": "_MhPqqsor-uo",
        "colab": {
          "base_uri": "https://localhost:8080/"
        },
        "outputId": "d6ce57c7-d7f3-47f2-845a-116e7f68486a"
      },
      "outputs": [
        {
          "output_type": "stream",
          "name": "stdout",
          "text": [
            "   ID   Name  Age Occupation         City\n",
            "0   3  jayed   35    Teacher     New York\n",
            "1   4  hasan   40   Engineer  Los Angeles\n"
          ]
        }
      ],
      "source": [
        "import pandas as pd\n",
        "\n",
        "data1 = {\n",
        "    'ID': [1, 2, 3, 4],\n",
        "    'Name': ['sazzad', 'rakib', 'jayed', 'hasan'],\n",
        "    'Age': [25, 30, 35, 40]\n",
        "}\n",
        "\n",
        "df1 = pd.DataFrame(data1)\n",
        "\n",
        "data2 = {\n",
        "    'ID': [3, 4, 5, 6],\n",
        "    'Occupation': ['Teacher', 'Engineer', 'Doctor', 'Lawyer'],\n",
        "    'City': ['New York', 'Los Angeles', 'Chicago', 'Houston']\n",
        "}\n",
        "\n",
        "df2 = pd.DataFrame(data2)\n",
        "\n",
        "merged_df = pd.merge(df1, df2, on='ID')   # by default how = 'inner join'\n",
        "print(merged_df)"
      ]
    }
  ]
}