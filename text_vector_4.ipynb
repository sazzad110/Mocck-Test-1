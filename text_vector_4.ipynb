{
  "cells": [
    {
      "cell_type": "markdown",
      "metadata": {
        "id": "view-in-github",
        "colab_type": "text"
      },
      "source": [
        "<a href=\"https://colab.research.google.com/github/sazzad110/Mock-Test-1/blob/main/text_vector_4.ipynb\" target=\"_parent\"><img src=\"https://colab.research.google.com/assets/colab-badge.svg\" alt=\"Open In Colab\"/></a>"
      ]
    },
    {
      "cell_type": "code",
      "execution_count": 24,
      "metadata": {
        "colab": {
          "base_uri": "https://localhost:8080/"
        },
        "id": "_MhPqqsor-uo",
        "outputId": "84ffef37-4144-4fbc-fbbc-4b1fd6ed19b2"
      },
      "outputs": [
        {
          "output_type": "stream",
          "name": "stdout",
          "text": [
            "                                            text\n",
            "0                       Machine learning is fun.\n",
            "1                       NLP is important for AI.\n",
            "2  Machine learning and NLP are closely related.\n",
            "TfidfVectorizer(stop_words='english')\n",
            "  (0, 2)\t0.680918560398684\n",
            "  (0, 4)\t0.5178561161676974\n",
            "  (0, 5)\t0.5178561161676974\n",
            "  (1, 0)\t0.6227660078332259\n",
            "  (1, 3)\t0.6227660078332259\n",
            "  (1, 6)\t0.4736296010332684\n",
            "  (2, 7)\t0.5174199439321682\n",
            "  (2, 1)\t0.5174199439321682\n",
            "  (2, 6)\t0.39351120409397233\n",
            "  (2, 4)\t0.39351120409397233\n",
            "  (2, 5)\t0.39351120409397233\n",
            "TF-IDF Matrix:\n",
            "         ai  closely       fun  important  learning   machine       nlp  \\\n",
            "0  0.000000  0.00000  0.680919   0.000000  0.517856  0.517856  0.000000   \n",
            "1  0.622766  0.00000  0.000000   0.622766  0.000000  0.000000  0.473630   \n",
            "2  0.000000  0.51742  0.000000   0.000000  0.393511  0.393511  0.393511   \n",
            "\n",
            "   related  \n",
            "0  0.00000  \n",
            "1  0.00000  \n",
            "2  0.51742  \n"
          ]
        }
      ],
      "source": [
        "import pandas as pd\n",
        "from sklearn.feature_extraction.text import TfidfVectorizer\n",
        "\n",
        "# Sample corpus of documents\n",
        "documents = [\n",
        "    \"Machine learning is fun.\",\n",
        "    \"NLP is important for AI.\",\n",
        "    \"Machine learning and NLP are closely related.\"\n",
        "]\n",
        "\n",
        "# Create a DataFrame (if starting from data)\n",
        "df = pd.DataFrame({'text': documents})\n",
        "print(df)\n",
        "\n",
        "\n",
        "# Initialize TfidfVectorizer\n",
        "tfidf_vectorizer = TfidfVectorizer(stop_words='english')  # remove common eng stop words . like is,the,etc\n",
        "\n",
        "# Fit and transform the corpus\n",
        "tfidf_matrix = tfidf_vectorizer.fit_transform(df['text'])\n",
        "print(tfidf_matrix)\n",
        "\n",
        "# Convert to DataFrame for visualization (optional)\n",
        "tfidf_df = pd.DataFrame(tfidf_matrix.toarray(), columns=tfidf_vectorizer.get_feature_names_out())\n",
        "\n",
        "print(\"TF-IDF Matrix:\")\n",
        "print(tfidf_df)\n",
        "\n",
        "\n",
        "\n"
      ]
    }
  ],
  "metadata": {
    "colab": {
      "provenance": [],
      "authorship_tag": "ABX9TyM9i7ikil0LjXaDU95Px0Yy",
      "include_colab_link": true
    },
    "kernelspec": {
      "display_name": "Python 3",
      "name": "python3"
    },
    "language_info": {
      "name": "python"
    }
  },
  "nbformat": 4,
  "nbformat_minor": 0
}