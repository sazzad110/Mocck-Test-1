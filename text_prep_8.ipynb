{
  "cells": [
    {
      "cell_type": "markdown",
      "metadata": {
        "id": "view-in-github",
        "colab_type": "text"
      },
      "source": [
        "<a href=\"https://colab.research.google.com/github/sazzad110/Mock-Test-1/blob/main/text_prep_8.ipynb\" target=\"_parent\"><img src=\"https://colab.research.google.com/assets/colab-badge.svg\" alt=\"Open In Colab\"/></a>"
      ]
    },
    {
      "cell_type": "code",
      "execution_count": 20,
      "metadata": {
        "colab": {
          "base_uri": "https://localhost:8080/"
        },
        "id": "_MhPqqsor-uo",
        "outputId": "60ae0eee-f0fb-43f5-a8f4-352902b6df4e"
      },
      "outputs": [
        {
          "output_type": "stream",
          "name": "stdout",
          "text": [
            "Text after removing numeric values: Hello . this is  when war scheduled . Then you was \n"
          ]
        }
      ],
      "source": [
        "import re\n",
        "\n",
        "\n",
        "text = \"Hello . this is 1971 when war scheduled . Then you was 20\"\n",
        "\n",
        "# Regex pattern to match numeric values\n",
        "numeric_pattern = r'\\d+'\n",
        "\n",
        "# Remove numeric values using re.sub\n",
        "clean_text = re.sub(numeric_pattern, '', text)\n",
        "\n",
        "print(\"Text after removing numeric values:\", clean_text)\n",
        "\n",
        "\n",
        "\n"
      ]
    }
  ],
  "metadata": {
    "colab": {
      "provenance": [],
      "authorship_tag": "ABX9TyOUm/ZGdJxeEo+cQ3aG9xm9",
      "include_colab_link": true
    },
    "kernelspec": {
      "display_name": "Python 3",
      "name": "python3"
    },
    "language_info": {
      "name": "python"
    }
  },
  "nbformat": 4,
  "nbformat_minor": 0
}