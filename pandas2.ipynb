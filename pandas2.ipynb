{
  "nbformat": 4,
  "nbformat_minor": 0,
  "metadata": {
    "colab": {
      "provenance": [],
      "authorship_tag": "ABX9TyNZ+zg0h5loGHUupL6G7KQl",
      "include_colab_link": true
    },
    "kernelspec": {
      "name": "python3",
      "display_name": "Python 3"
    },
    "language_info": {
      "name": "python"
    }
  },
  "cells": [
    {
      "cell_type": "markdown",
      "metadata": {
        "id": "view-in-github",
        "colab_type": "text"
      },
      "source": [
        "<a href=\"https://colab.research.google.com/github/sazzad110/Mock-Test-1/blob/main/pandas2.ipynb\" target=\"_parent\"><img src=\"https://colab.research.google.com/assets/colab-badge.svg\" alt=\"Open In Colab\"/></a>"
      ]
    },
    {
      "cell_type": "markdown",
      "source": [
        "## Select Specific Column in Dataframe\n"
      ],
      "metadata": {
        "id": "n6GXWGExsHtd"
      }
    },
    {
      "cell_type": "code",
      "execution_count": 5,
      "metadata": {
        "id": "_MhPqqsor-uo",
        "colab": {
          "base_uri": "https://localhost:8080/"
        },
        "outputId": "aeaa259f-21c2-48c2-c77e-05191cdc8ddc"
      },
      "outputs": [
        {
          "output_type": "stream",
          "name": "stdout",
          "text": [
            "<class 'dict'>\n",
            "<class 'pandas.core.frame.DataFrame'>\n",
            "Selected name column\n",
            "     name\n",
            "0  sazzad\n",
            "1   bakku\n",
            "2   rakib\n"
          ]
        }
      ],
      "source": [
        "import pandas as pd     # defining dependencies\n",
        "\n",
        "# defining a dictonary\n",
        "data = {\n",
        "    \"name\":[\"sazzad\",\"bakku\",\"rakib\"],\n",
        "    \"id\":[1,2,3]\n",
        "}\n",
        "print(type(data))     # dictionary\n",
        "# make this dict dataframe\n",
        "df = pd.DataFrame(data)\n",
        "print(type(df))       # dataframe\n",
        "\n",
        "# Select one column\n",
        "selected_colmn = df[[\"name\"]]\n",
        "print(\"Selected name column\")\n",
        "print(selected_colmn)\n"
      ]
    }
  ]
}