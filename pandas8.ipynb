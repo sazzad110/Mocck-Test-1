{
  "cells": [
    {
      "cell_type": "markdown",
      "metadata": {
        "id": "view-in-github",
        "colab_type": "text"
      },
      "source": [
        "<a href=\"https://colab.research.google.com/github/sazzad110/Mock-Test-1/blob/main/pandas8.ipynb\" target=\"_parent\"><img src=\"https://colab.research.google.com/assets/colab-badge.svg\" alt=\"Open In Colab\"/></a>"
      ]
    },
    {
      "cell_type": "code",
      "execution_count": 9,
      "metadata": {
        "colab": {
          "base_uri": "https://localhost:8080/"
        },
        "id": "_MhPqqsor-uo",
        "outputId": "3c0441eb-d405-4363-9997-656c94a62927"
      },
      "outputs": [
        {
          "output_type": "stream",
          "name": "stdout",
          "text": [
            "       A   B    C\n",
            "row1  10  50   90\n",
            "row2  20  60  100\n",
            "row3  30  70  110\n",
            "row4  40  80  120\n",
            "20\n",
            "A     20\n",
            "B     60\n",
            "C    100\n",
            "Name: row2, dtype: int64\n",
            "       A   B    C\n",
            "row1  10  50   90\n",
            "row2  20  60  100\n",
            "----------------using loc ------------\n",
            "A    10\n",
            "B    50\n",
            "C    90\n",
            "Name: row1, dtype: int64\n",
            "10\n",
            "       A   B    C\n",
            "row1  10  50   90\n",
            "row2  20  60  100\n",
            "row3  30  70  110\n"
          ]
        }
      ],
      "source": [
        "import pandas as pd\n",
        "\n",
        "# Example DataFrame\n",
        "data = {\n",
        "    'A': [10, 20, 30, 40],\n",
        "    'B': [50, 60, 70, 80],\n",
        "    'C': [90, 100, 110, 120]\n",
        "}\n",
        "df = pd.DataFrame(data, index=['row1', 'row2', 'row3', 'row4'])\n",
        "print(df)\n",
        "\n",
        "# select single elemnt [row,column]\n",
        "print(df.iloc[1,0])\n",
        "\n",
        "#select entire row . sleect entire second row\n",
        "print(df.iloc[1])\n",
        "\n",
        "#select rows from range\n",
        "print(df.iloc[0:2])\n",
        "\n",
        "## using loc\n",
        "print(\"----------------using loc ------------\")\n",
        "\n",
        "# select only row1\n",
        "print(df.loc['row1'])\n",
        "\n",
        "#select row1 and column A\n",
        "print(df.loc['row1','A'])     # print only values\n",
        "\n",
        "#sleect rows range\n",
        "print(df.loc['row1':'row3'])\n",
        "\n"
      ]
    }
  ],
  "metadata": {
    "colab": {
      "provenance": [],
      "authorship_tag": "ABX9TyPFLK1lsutZi++UEMR3xlAD",
      "include_colab_link": true
    },
    "kernelspec": {
      "display_name": "Python 3",
      "name": "python3"
    },
    "language_info": {
      "name": "python"
    }
  },
  "nbformat": 4,
  "nbformat_minor": 0
}