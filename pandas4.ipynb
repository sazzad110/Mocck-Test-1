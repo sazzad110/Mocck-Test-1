{
  "nbformat": 4,
  "nbformat_minor": 0,
  "metadata": {
    "colab": {
      "provenance": [],
      "authorship_tag": "ABX9TyPd33Zxx4xaBmoB3kUF47BZ",
      "include_colab_link": true
    },
    "kernelspec": {
      "name": "python3",
      "display_name": "Python 3"
    },
    "language_info": {
      "name": "python"
    }
  },
  "cells": [
    {
      "cell_type": "markdown",
      "metadata": {
        "id": "view-in-github",
        "colab_type": "text"
      },
      "source": [
        "<a href=\"https://colab.research.google.com/github/sazzad110/Mock-Test-1/blob/main/pandas4.ipynb\" target=\"_parent\"><img src=\"https://colab.research.google.com/assets/colab-badge.svg\" alt=\"Open In Colab\"/></a>"
      ]
    },
    {
      "cell_type": "code",
      "execution_count": 9,
      "metadata": {
        "id": "_MhPqqsor-uo",
        "colab": {
          "base_uri": "https://localhost:8080/"
        },
        "outputId": "3ab84f29-e8ff-4db5-f305-6aaad8f333aa"
      },
      "outputs": [
        {
          "output_type": "stream",
          "name": "stdout",
          "text": [
            "                      Age\n",
            "Occupation               \n",
            "Data Scientist  25.000000\n",
            "Doctor          40.000000\n",
            "Engineer        30.666667\n",
            "Teacher         35.000000\n"
          ]
        }
      ],
      "source": [
        "import pandas as pd\n",
        "\n",
        "data = {\n",
        "    'Name': ['sazzad', 'sumon', 'rakib', 'mizan', 'sunny', 'jayed', 'robi'],\n",
        "    'Age': [30, 25, 35, 40, 30, 32, 25],\n",
        "    'Occupation': ['Engineer', 'Data Scientist', 'Teacher', 'Doctor', 'Engineer', 'Engineer', 'Data Scientist'],\n",
        "}\n",
        "\n",
        "df = pd.DataFrame(data)     # make it dataframe\n",
        "\n",
        "grouped_df = df.groupby('Occupation').agg({'Age':'mean'})   # Grouped data by occupation and calc mean age of each occupation people\n",
        "print(grouped_df)"
      ]
    }
  ]
}